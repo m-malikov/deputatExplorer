{
 "cells": [
  {
   "cell_type": "code",
   "execution_count": 30,
   "metadata": {},
   "outputs": [],
   "source": [
    "from google_images_download import google_images_download\n",
    "import sys\n",
    "\n",
    "def search(query,limit):\n",
    "    response = google_images_download.googleimagesdownload()   \n",
    "    arguments = {\"keywords\":query,\"limit\":limit,\"print_urls\":True}   \n",
    "    paths = response.download(arguments)  \n",
    "    return paths\n"
   ]
  },
  {
   "cell_type": "code",
   "execution_count": 3,
   "metadata": {},
   "outputs": [
    {
     "name": "stdout",
     "output_type": "stream",
     "text": [
      "Collecting google_images_download\n",
      "  Downloading https://files.pythonhosted.org/packages/18/ed/0319d30c48f3653802da8e6dcfefcea6370157d10d566ef6807cceb5ec4d/google_images_download-2.8.0.tar.gz\n",
      "Requirement already satisfied: selenium in /home/celidos/anaconda3/envs/venv_tensorflowgpu/lib/python3.6/site-packages (from google_images_download) (3.141.0)\n",
      "Requirement already satisfied: urllib3 in /home/celidos/anaconda3/envs/venv_tensorflowgpu/lib/python3.6/site-packages (from selenium->google_images_download) (1.24.2)\n",
      "Building wheels for collected packages: google-images-download\n",
      "  Building wheel for google-images-download (setup.py) ... \u001b[?25ldone\n",
      "\u001b[?25h  Stored in directory: /home/celidos/.cache/pip/wheels/1f/28/ad/f56e7061e1d2a9a1affe2f9c649c2570cb9198dd24ede0bbab\n",
      "Successfully built google-images-download\n",
      "Installing collected packages: google-images-download\n",
      "Successfully installed google-images-download-2.8.0\n"
     ]
    }
   ],
   "source": [
    "!pip install google_images_download"
   ]
  },
  {
   "cell_type": "code",
   "execution_count": 21,
   "metadata": {},
   "outputs": [],
   "source": [
    "def search(query,limit):\n",
    "    response = google_images_download.googleimagesdownload()   \n",
    "    arguments = {\"keywords\":query,\"limit\":limit,\"print_urls\":True}   \n",
    "    paths = response.download(arguments)  \n",
    "    return paths\n"
   ]
  },
  {
   "cell_type": "code",
   "execution_count": 31,
   "metadata": {},
   "outputs": [
    {
     "name": "stdout",
     "output_type": "stream",
     "text": [
      "\n",
      "Item no.: 1 --> Item name = \\u0424\\u0435\\u0434\\u043e\\u0440\\u043e\\u0432 \\u041f\\u0430\\u0432\\u0435\\u043b \\u042e\\u0440\\u044c\\u0435\\u0432\\u0438\\u0447\n",
      "Evaluating...\n",
      "Starting Download...\n",
      "Image URL: https://static.mvd.ru/upload/site96/document_images/WgYo2yX9J7-800x600.jpg\n",
      "Completed Image ====> 1.WgYo2yX9J7-800x600.jpg\n",
      "\n",
      "Errors: 0\n",
      "\n"
     ]
    }
   ],
   "source": [
    "res = search('Федоров Павел Юрьевич', 1)"
   ]
  },
  {
   "cell_type": "code",
   "execution_count": 29,
   "metadata": {},
   "outputs": [
    {
     "name": "stdout",
     "output_type": "stream",
     "text": [
      "({'Федоров Павел Юрьевич': ['/mnt/3B1D7BDC2D2641B0/Documents/MOSCOW_HACK/downloads/Федоров Павел Юрьевич/1.WgYo2yX9J7-800x600.jpg']}, 0)\n"
     ]
    }
   ],
   "source": [
    "print(res)"
   ]
  },
  {
   "cell_type": "code",
   "execution_count": null,
   "metadata": {},
   "outputs": [],
   "source": []
  }
 ],
 "metadata": {
  "kernelspec": {
   "display_name": "tf_gpu",
   "language": "python",
   "name": "tf_gpu"
  },
  "language_info": {
   "codemirror_mode": {
    "name": "ipython",
    "version": 3
   },
   "file_extension": ".py",
   "mimetype": "text/x-python",
   "name": "python",
   "nbconvert_exporter": "python",
   "pygments_lexer": "ipython3",
   "version": "3.6.8"
  }
 },
 "nbformat": 4,
 "nbformat_minor": 2
}
